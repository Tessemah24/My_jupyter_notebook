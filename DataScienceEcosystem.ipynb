{
 "cells": [
  {
   "cell_type": "markdown",
   "id": "d14bac1b",
   "metadata": {},
   "source": [
    "<h1>Data Science Tools and Ecosystem</h1>"
   ]
  },
  {
   "cell_type": "markdown",
   "id": "b3ae514f",
   "metadata": {},
   "source": [
    "<b>In this Notebook, Data Science Tools and Ecosystem are Summarized</b>"
   ]
  },
  {
   "cell_type": "markdown",
   "id": "78027759",
   "metadata": {},
   "source": [
    "Objectives:\n",
    "- List Popular Languages for Data Science\n",
    "- List Commonly Used Libraries in Data Science\n",
    "- List Common Data Science Tools \n",
    "- Evaluate Artimethetic Expressions in Python"
   ]
  },
  {
   "cell_type": "markdown",
   "id": "bc6bd4ca",
   "metadata": {},
   "source": [
    "Some of Popular Languages that Data Scienntists use are:\n",
    "1. Python\n",
    "2. R\n",
    "3. C++"
   ]
  },
  {
   "cell_type": "markdown",
   "id": "8d0bae37",
   "metadata": {},
   "source": [
    "Some of the Commonly used Libraries used by Data Scientists include:\n",
    "1. Pandas\n",
    "2. Numpy\n",
    "3. Matplotlib\n",
    "4. Seaborn\n",
    "5. Plotly "
   ]
  },
  {
   "cell_type": "markdown",
   "id": "f436b0c3",
   "metadata": {},
   "source": [
    "| Data Science Tools |\n",
    "| ------------------ |\n",
    "| Jupyter Notebook |\n",
    "| Rstudio |\n",
    "| VS Code |"
   ]
  },
  {
   "cell_type": "markdown",
   "id": "6ee6301d",
   "metadata": {},
   "source": [
    "<h3>Below are a few examples of evaluating aritmethetic expressions in python</h3>"
   ]
  },
  {
   "cell_type": "code",
   "execution_count": 1,
   "id": "d4b58aa8",
   "metadata": {},
   "outputs": [
    {
     "data": {
      "text/plain": [
       "17"
      ]
     },
     "execution_count": 1,
     "metadata": {},
     "output_type": "execute_result"
    }
   ],
   "source": [
    "# This is a simple arithemetic expressions to multiply then add integers\n",
    "(3 * 4) + 5"
   ]
  },
  {
   "cell_type": "code",
   "execution_count": 2,
   "id": "d34f0d17",
   "metadata": {},
   "outputs": [
    {
     "name": "stdout",
     "output_type": "stream",
     "text": [
      " 200 minutes is 3.3333333333333335 hours\n"
     ]
    }
   ],
   "source": [
    "# This will convert 200 minutes to hours by dividing by by 60\n",
    "minutes = 200\n",
    "hours = minutes/60\n",
    "print(f\" 200 minutes is {hours} hours\")"
   ]
  },
  {
   "cell_type": "markdown",
   "id": "86273057",
   "metadata": {},
   "source": [
    "<h2>Author</h2>\n",
    "Tessema Hirbaye"
   ]
  },
  {
   "cell_type": "code",
   "execution_count": null,
   "id": "d898d1b9",
   "metadata": {},
   "outputs": [],
   "source": []
  }
 ],
 "metadata": {
  "kernelspec": {
   "display_name": "Python 3 (ipykernel)",
   "language": "python",
   "name": "python3"
  },
  "language_info": {
   "codemirror_mode": {
    "name": "ipython",
    "version": 3
   },
   "file_extension": ".py",
   "mimetype": "text/x-python",
   "name": "python",
   "nbconvert_exporter": "python",
   "pygments_lexer": "ipython3",
   "version": "3.10.9"
  }
 },
 "nbformat": 4,
 "nbformat_minor": 5
}
